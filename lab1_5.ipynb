{
 "cells": [
  {
   "cell_type": "code",
   "execution_count": null,
   "id": "c8e240f1-7cab-40d0-a7f6-c269c89de53e",
   "metadata": {},
   "outputs": [],
   "source": [
    "from google.colab import drive\n",
    "\n",
    "drive.mount('/content/drive')\n",
    "\n",
    "file_path = '/content/drive/MyDrive/my_text_file.txt'\n",
    "with open(file_path, 'w') as f:\n",
    "  f.write('first line\\n')\n",
    "  f.write('second line')\n",
    "\n",
    "print('Файл сохранен')\n",
    "\n",
    "with open(file_path, 'r') as f:\n",
    "  content = f.read()\n",
    "  print('Содержимое файла:\\n', content)\n",
    "\n",
    "students = [\n",
    "    ['Иванов И.И.', 19, 'ИВТ-б-о-23-1'],\n",
    "    ['Петров П.П.', 20, 'ИВТ-б-о-23-2'],\n",
    "    ['Сидоров С.С.', 21, 'ИВТ-б-о-23-3']\n",
    "]\n",
    "\n",
    "csv_path = '/content/drive/MyDrive/students.scv'\n",
    "with open(csv_path,'w') as f:\n",
    "  for student in students:\n",
    "    f.write(','.join(map(str,student)) + '\\n')\n",
    "\n",
    "print('Файл students.scv сохранен')"
   ]
  }
 ],
 "metadata": {
  "kernelspec": {
   "display_name": "Python [conda env:base] *",
   "language": "python",
   "name": "conda-base-py"
  },
  "language_info": {
   "codemirror_mode": {
    "name": "ipython",
    "version": 3
   },
   "file_extension": ".py",
   "mimetype": "text/x-python",
   "name": "python",
   "nbconvert_exporter": "python",
   "pygments_lexer": "ipython3",
   "version": "3.12.7"
  }
 },
 "nbformat": 4,
 "nbformat_minor": 5
}
