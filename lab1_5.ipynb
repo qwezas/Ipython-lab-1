{
  "nbformat": 4,
  "nbformat_minor": 0,
  "metadata": {
    "colab": {
      "provenance": []
    },
    "kernelspec": {
      "name": "python3",
      "display_name": "Python 3"
    },
    "language_info": {
      "name": "python"
    }
  },
  "cells": [
    {
      "cell_type": "code",
      "execution_count": 1,
      "metadata": {
        "colab": {
          "base_uri": "https://localhost:8080/"
        },
        "id": "uetVVGwQGf8U",
        "outputId": "8d176231-5451-425c-9e75-dab4cde59ad6"
      },
      "outputs": [
        {
          "output_type": "stream",
          "name": "stdout",
          "text": [
            "Mounted at /content/drive\n",
            "Файл сохранен\n",
            "Содержимое файла:\n",
            " first line\n",
            "second line\n",
            "Файл students.scv сохранен\n"
          ]
        }
      ],
      "source": [
        "from google.colab import drive\n",
        "\n",
        "drive.mount('/content/drive')\n",
        "\n",
        "file_path = '/content/drive/MyDrive/my_text_file.txt'\n",
        "with open(file_path, 'w') as f:\n",
        "  f.write('first line\\n')\n",
        "  f.write('second line')\n",
        "\n",
        "print('Файл сохранен')\n",
        "\n",
        "with open(file_path, 'r') as f:\n",
        "  content = f.read()\n",
        "  print('Содержимое файла:\\n', content)\n",
        "\n",
        "students = [\n",
        "    ['Иванов И.И.', 19, 'ИВТ-б-о-23-1'],\n",
        "    ['Петров П.П.', 20, 'ИВТ-б-о-23-2'],\n",
        "    ['Сидоров С.С.', 21, 'ИВТ-б-о-23-3']\n",
        "]\n",
        "\n",
        "csv_path = '/content/drive/MyDrive/students.scv'\n",
        "with open(csv_path,'w') as f:\n",
        "  for student in students:\n",
        "    f.write(','.join(map(str,student)) + '\\n')\n",
        "\n",
        "print('Файл students.scv сохранен')"
      ]
    },
    {
      "cell_type": "code",
      "source": [],
      "metadata": {
        "id": "rdfb3Lz9GkFJ"
      },
      "execution_count": null,
      "outputs": []
    }
  ]
}