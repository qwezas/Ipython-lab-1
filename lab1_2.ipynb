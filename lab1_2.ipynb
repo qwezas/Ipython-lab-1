{
 "cells": [
  {
   "cell_type": "markdown",
   "id": "f16869d4-81e8-4772-a086-f83f50a8d019",
   "metadata": {},
   "source": [
    "## Лабораторная работа №1\n",
    "Вариант 25\n",
    "### Задание 2\n",
    "- Создайте и сохраните текстовый файл с помощью open()\n",
    "- Запишите в него несколько строк текста.\n",
    "- Закройте файл и затем откройте его снова, считав содержимое и выведя на экран.\n",
    "- Проверьте, существует ли файл, используя os.path.exists().\n",
    "- Удалите файл с помощью модуля os."
   ]
  },
  {
   "cell_type": "code",
   "execution_count": 1,
   "id": "0edba2b5-b5b5-4359-bc0c-747e17d065c9",
   "metadata": {},
   "outputs": [
    {
     "name": "stdout",
     "output_type": "stream",
     "text": [
      "Содержимое файла:\n",
      " Привет\n",
      "мир\n",
      "!\n",
      "Файл существует?  True\n",
      "Удаление прошло успешно\n",
      "Файл существует?  False\n"
     ]
    }
   ],
   "source": [
    "import os\n",
    "with open('Test.txt', 'w') as f:\n",
    "    f.write('Привет\\n')\n",
    "    f.write('мир\\n')\n",
    "    f.write('!')\n",
    "with open('Test.txt', 'r') as f:\n",
    "    content = f.read()\n",
    "    print('Содержимое файла:\\n', content)\n",
    "print('Файл существует? ', os.path.exists('Test.txt'))\n",
    "os.remove('Test.txt')\n",
    "print('Удаление прошло успешно')\n",
    "print('Файл существует? ', os.path.exists('Test.txt'))"
   ]
  }
 ],
 "metadata": {
  "kernelspec": {
   "display_name": "Python [conda env:base] *",
   "language": "python",
   "name": "conda-base-py"
  },
  "language_info": {
   "codemirror_mode": {
    "name": "ipython",
    "version": 3
   },
   "file_extension": ".py",
   "mimetype": "text/x-python",
   "name": "python",
   "nbconvert_exporter": "python",
   "pygments_lexer": "ipython3",
   "version": "3.12.7"
  }
 },
 "nbformat": 4,
 "nbformat_minor": 5
}
