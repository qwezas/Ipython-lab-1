{
  "nbformat": 4,
  "nbformat_minor": 0,
  "metadata": {
    "colab": {
      "provenance": []
    },
    "kernelspec": {
      "name": "python3",
      "display_name": "Python 3"
    },
    "language_info": {
      "name": "python"
    }
  },
  "cells": [
    {
      "cell_type": "code",
      "source": [
        "!which python"
      ],
      "metadata": {
        "colab": {
          "base_uri": "https://localhost:8080/"
        },
        "id": "XWmd3SSBPYHM",
        "outputId": "fb6c1147-49d8-48df-f6bd-18bf1f13c511"
      },
      "execution_count": null,
      "outputs": [
        {
          "output_type": "stream",
          "name": "stdout",
          "text": [
            "/usr/local/bin/python\n"
          ]
        }
      ]
    },
    {
      "cell_type": "code",
      "source": [
        "!ls\n",
        "!mkdir new_folder\n",
        "!mv some.txt ./new_folder/\n",
        "!ls ./new_folder\n",
        "!rm ./new_folder/some.txt\n",
        "!rmdir new_folder\n",
        "!clear"
      ],
      "metadata": {
        "colab": {
          "base_uri": "https://localhost:8080/"
        },
        "id": "V37XY0qDQqZ8",
        "outputId": "3725b8ae-c263-45e6-9f6c-931da3119991"
      },
      "execution_count": null,
      "outputs": [
        {
          "output_type": "stream",
          "name": "stdout",
          "text": [
            "sample_data  some.txt\n",
            "some.txt\n",
            "\u001b[H\u001b[2J"
          ]
        }
      ]
    }
  ]
}