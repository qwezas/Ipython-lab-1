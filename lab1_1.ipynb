{
 "cells": [
  {
   "cell_type": "markdown",
   "id": "524084cb-6bc3-462e-9e54-dfcefb391a2e",
   "metadata": {},
   "source": [
    "## Лабораторная работа №1\n",
    "Вариант 26\n",
    "### Задание 1\n",
    "Создать markdown - ячейку и записать туда текст, отформотировав по условию. Создать Python-ячейку и добавить код с приветсвтием."
   ]
  },
  {
   "cell_type": "markdown",
   "id": "a9e1a557-13b7-4c23-9d8f-c1701e7248bf",
   "metadata": {},
   "source": [
    "Практическое задание №1\n",
    "\n",
    "**Данный текст жирный**\n",
    "\n",
    "*Данный текст курсивный*\n",
    "\n",
    "- Один\n",
    "- Два\n",
    "- Три\n",
    "\n",
    "1. Один\n",
    "2. Два\n",
    "3. Три\n",
    "\n",
    "Вариант 26\n",
    "\n",
    "Ковариация двух случайных величин:\n",
    "\n",
    "Cov(X,Y) = Ε [(X - μx)(Y - μy)]\n",
    "\n",
    "![Греческий алфавит](https://alphabetonline.ru/assets/images/alphabet_greek.webp)"
   ]
  },
  {
   "cell_type": "code",
   "execution_count": 13,
   "id": "5157bab5-296c-4c85-948d-1548651899ed",
   "metadata": {},
   "outputs": [
    {
     "name": "stdin",
     "output_type": "stream",
     "text": [
      " user\n"
     ]
    },
    {
     "name": "stdout",
     "output_type": "stream",
     "text": [
      "Привет, user! Добро пожаловать в JupyterLab!\n"
     ]
    }
   ],
   "source": [
    "name = input()\n",
    "print(f'Привет, {name}! Добро пожаловать в JupyterLab!')"
   ]
  }
 ],
 "metadata": {
  "kernelspec": {
   "display_name": "Python [conda env:base] *",
   "language": "python",
   "name": "conda-base-py"
  },
  "language_info": {
   "codemirror_mode": {
    "name": "ipython",
    "version": 3
   },
   "file_extension": ".py",
   "mimetype": "text/x-python",
   "name": "python",
   "nbconvert_exporter": "python",
   "pygments_lexer": "ipython3",
   "version": "3.12.7"
  }
 },
 "nbformat": 4,
 "nbformat_minor": 5
}
