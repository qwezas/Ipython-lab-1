{
 "cells": [
  {
   "cell_type": "markdown",
   "id": "524084cb-6bc3-462e-9e54-dfcefb391a2e",
   "metadata": {},
   "source": [
    "## Лабораторная работа №1\n",
    "Вариант 25\n",
    "### Задание 1\n",
    "Создать markdown - ячейку и записать туда текст, отформотировав по условию. Создать Python-ячейку и добавить код с приветсвтием.\n",
    "\n",
    "Создайте новую Markdown-ячейку и:\n",
    "\n",
    "Напишите заголовок \"Практическое задание №1\" .\n",
    "\n",
    "Добавьте жирный и курсивный текст.\n",
    "\n",
    "Создайте нумерованный и маркированный списки.\n",
    "\n",
    "Вставьте согласно индивидуального задания, например:\n",
    "\n",
    "a2 + b2 = c2\n",
    "\n",
    "Вставьте изображение через [Описание](URL .\n",
    "\n",
    "\n",
    "Создайте ячейку Python-кода и:\n",
    "\n",
    "Запросите у пользователя его имя с помощью input() .\n",
    "\n",
    "Выведите приветствие: \"Привет, <имя>! Добро пожаловать в JupyterLab / Google Colab!\" .\n",
    "\n",
    "Запустите ячейку ( Shift + Enter )."
   ]
  },
  {
   "cell_type": "markdown",
   "id": "a9e1a557-13b7-4c23-9d8f-c1701e7248bf",
   "metadata": {},
   "source": [
    "Практическое задание №1\n",
    "\n",
    "**Данный текст жирный**\n",
    "\n",
    "*Данный текст курсивный*\n",
    "\n",
    "- Один\n",
    "- Два\n",
    "- Три\n",
    "\n",
    "1. Один\n",
    "2. Два\n",
    "3. Три\n",
    "\n",
    "Вариант 25\n",
    "\n",
    "Базовое выражение для логарифма от произведения:\n",
    "\n",
    "$\\log_b(xy) = \\log_b(x) + \\log_b(y)$\n",
    "\n",
    "![Греческий алфавит](https://alphabetonline.ru/assets/images/alphabet_greek.webp)"
   ]
  },
  {
   "cell_type": "code",
   "execution_count": 13,
   "id": "5157bab5-296c-4c85-948d-1548651899ed",
   "metadata": {},
   "outputs": [
    {
     "name": "stdin",
     "output_type": "stream",
     "text": [
      " user\n"
     ]
    },
    {
     "name": "stdout",
     "output_type": "stream",
     "text": [
      "Привет, user! Добро пожаловать в JupyterLab!\n"
     ]
    }
   ],
   "source": [
    "name = input()\n",
    "print(f'Привет, {name}! Добро пожаловать в JupyterLab!')"
   ]
  }
 ],
 "metadata": {
  "kernelspec": {
   "display_name": "Python [conda env:base] *",
   "language": "python",
   "name": "conda-base-py"
  },
  "language_info": {
   "codemirror_mode": {
    "name": "ipython",
    "version": 3
   },
   "file_extension": ".py",
   "mimetype": "text/x-python",
   "name": "python",
   "nbconvert_exporter": "python",
   "pygments_lexer": "ipython3",
   "version": "3.12.7"
  }
 },
 "nbformat": 4,
 "nbformat_minor": 5
}
